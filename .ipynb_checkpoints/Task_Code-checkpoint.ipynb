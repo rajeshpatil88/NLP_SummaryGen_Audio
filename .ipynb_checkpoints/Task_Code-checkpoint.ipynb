{
 "cells": [
  {
   "cell_type": "code",
   "execution_count": null,
   "id": "be03b7c1",
   "metadata": {},
   "outputs": [],
   "source": [
    "# !pip install soundfile"
   ]
  },
  {
   "cell_type": "code",
   "execution_count": null,
   "id": "c02ca1cf",
   "metadata": {},
   "outputs": [],
   "source": [
    "# !pip install transformers torch\n"
   ]
  },
  {
   "cell_type": "code",
   "execution_count": null,
   "id": "b373adc2",
   "metadata": {},
   "outputs": [],
   "source": [
    "# Importing Dependencies\n",
    "\n",
    "import pandas as pd\n",
    "import numpy as np\n",
    "import warnings\n",
    "warnings.filterwarnings('ignore')\n",
    "import soundfile as sf\n",
    "from transformers import Wav2Vec2ForCTC, Wav2Vec2Processor, Wav2Vec2Tokenizer\n",
    "import torch"
   ]
  },
  {
   "cell_type": "code",
   "execution_count": null,
   "id": "30e0e034",
   "metadata": {},
   "outputs": [],
   "source": [
    "# Load the pre-trained Wav2Vec model and tokenizer\n",
    "model = Wav2Vec2ForCTC.from_pretrained(\"facebook/wav2vec2-large-960h\")\n",
    "tokenizer = Wav2Vec2Tokenizer.from_pretrained(\"facebook/wav2vec2-large-960h\")"
   ]
  },
  {
   "cell_type": "code",
   "execution_count": null,
   "id": "d9c20347",
   "metadata": {},
   "outputs": [],
   "source": [
    "# Function to transcribe audio using the Wav2Vec model\n",
    "def transcribe_audio(file_path):\n",
    "    # Load the audio file\n",
    "    audio, sample_rate = sf.read(file_path)\n",
    "    \n",
    "    # Perform tokenization\n",
    "    input_values = tokenizer(audio, return_tensors=\"pt\").input_values\n",
    "    \n",
    "    # Transcribe the audio\n",
    "    with torch.no_grad():\n",
    "        logits = model(input_values).logits\n",
    "    \n",
    "    # Convert logits to predicted token ids\n",
    "    predicted_ids = torch.argmax(logits, dim=-1)\n",
    "    \n",
    "    # Decode the predicted token ids into text\n",
    "    transcription = tokenizer.batch_decode(predicted_ids)[0]\n",
    "    \n",
    "    return transcription"
   ]
  },
  {
   "cell_type": "code",
   "execution_count": null,
   "id": "a8bec7cb",
   "metadata": {},
   "outputs": [],
   "source": [
    "# Provide the path to your audio file\n",
    "audio_file = \"sales_call_telephone_marketers.wav\"\n",
    "\n",
    "# Transcribe the audio\n",
    "transcription = transcribe_audio(audio_file)\n",
    "\n",
    "# Print the transcription\n",
    "print(\"Transcription:\", transcription)"
   ]
  },
  {
   "cell_type": "code",
   "execution_count": null,
   "id": "11b779ec",
   "metadata": {},
   "outputs": [],
   "source": []
  }
 ],
 "metadata": {
  "kernelspec": {
   "display_name": "Python 3 (ipykernel)",
   "language": "python",
   "name": "python3"
  },
  "language_info": {
   "codemirror_mode": {
    "name": "ipython",
    "version": 3
   },
   "file_extension": ".py",
   "mimetype": "text/x-python",
   "name": "python",
   "nbconvert_exporter": "python",
   "pygments_lexer": "ipython3",
   "version": "3.10.9"
  }
 },
 "nbformat": 4,
 "nbformat_minor": 5
}
